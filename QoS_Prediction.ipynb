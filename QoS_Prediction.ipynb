{
  "cells": [
    {
      "cell_type": "code",
      "execution_count": 23,
      "id": "83659bd7-873f-4efc-b71e-8319cba9a7d3",
      "metadata": {
        "id": "83659bd7-873f-4efc-b71e-8319cba9a7d3"
      },
      "outputs": [],
      "source": [
        "import pandas as pd\n",
        "from sklearn.model_selection import GridSearchCV\n",
        "from sklearn.compose import make_column_transformer\n",
        "from sklearn.ensemble import RandomForestRegressor\n",
        "from sklearn.ensemble import GradientBoostingRegressor\n",
        "from sklearn.metrics import mean_squared_error\n",
        "from sklearn.preprocessing import OrdinalEncoder\n",
        "from sklearn.model_selection import train_test_split"
      ]
    },
    {
      "cell_type": "markdown",
      "id": "ddd1971d-f8a6-4470-ae70-73df82376eb5",
      "metadata": {
        "id": "ddd1971d-f8a6-4470-ae70-73df82376eb5"
      },
      "source": [
        "## 1. Data 가져오기"
      ]
    },
    {
      "cell_type": "code",
      "execution_count": 5,
      "id": "9ec676c9-e6a7-4a70-be2c-76345f1fc6b6",
      "metadata": {
        "id": "9ec676c9-e6a7-4a70-be2c-76345f1fc6b6"
      },
      "outputs": [],
      "source": [
        "train_df = pd.read_csv(\"Train.csv\")\n",
        "test_df = pd.read_csv(\"Test.csv\")\n",
        "sample_submission = pd.read_csv('SampleSubmission.csv')"
      ]
    },
    {
      "cell_type": "markdown",
      "id": "36c5c4fb-c820-4eea-b9bb-5a93ed88ce69",
      "metadata": {
        "id": "36c5c4fb-c820-4eea-b9bb-5a93ed88ce69"
      },
      "source": [
        "## 2. Data 전처리"
      ]
    },
    {
      "cell_type": "code",
      "execution_count": 11,
      "id": "f71f8390-07e6-44b4-ad33-ba882d37e679",
      "metadata": {
        "id": "f71f8390-07e6-44b4-ad33-ba882d37e679"
      },
      "outputs": [],
      "source": [
        "# 입력값과 예측 목표값 분리\n",
        "train_inputs = train_df.drop(columns=['target'])\n",
        "train_targets = train_df['target']\n",
        "test_inputs = test_df.copy()\n",
        "\n",
        "# feature 선정\n",
        "dropped_columns = ['device', 'id']\n",
        "train_inputs.drop(columns=dropped_columns, inplace=True)\n",
        "test_inputs.drop(columns=dropped_columns, inplace=True)\n",
        "\n",
        "#feature 카테고리 변환(feature 'area' 각각의 고유한 값에 다른 정수할당)\n",
        "categorical_features = ['area']\n",
        "oe = OrdinalEncoder()\n",
        "train_inputs[categorical_features] = oe.fit_transform(train_inputs[categorical_features])\n",
        "test_inputs[categorical_features] = oe.transform(test_inputs[categorical_features])\n",
        "\n",
        "# 결측치 0으로 변환\n",
        "train_inputs.fillna(0, inplace=True)\n",
        "test_inputs.fillna(0, inplace=True)"
      ]
    },
    {
      "cell_type": "markdown",
      "id": "8e794da1-c893-4242-83cf-470e26b0ceba",
      "metadata": {
        "id": "8e794da1-c893-4242-83cf-470e26b0ceba"
      },
      "source": [
        "## 3. 예측 알고리즘(RandomForestRegressor)"
      ]
    },
    {
      "cell_type": "code",
      "execution_count": 17,
      "id": "661d3183-90e0-48f3-9d79-b53c4f2dad2c",
      "metadata": {
        "id": "661d3183-90e0-48f3-9d79-b53c4f2dad2c"
      },
      "outputs": [
        {
          "name": "stdout",
          "output_type": "stream",
          "text": [
            "최적 하이퍼파라미터 : {'max_depth': 10, 'min_samples_leaf': 5, 'min_samples_split': 5, 'n_estimators': 40}\n",
            "최적 예측 정확도 : 0.9285\n"
          ]
        }
      ],
      "source": [
        "# training data 와 test data 분리\n",
        "\n",
        "X_train, X_test, y_train, y_test = train_test_split(train_inputs, train_targets, test_size = 0.2, random_state = 0)\n",
        "\n",
        "# ML알고리즘 생성\n",
        "params = {\n",
        "    'n_estimators' :(20,40),\n",
        "    'max_depth' : (5,10),\n",
        "    'min_samples_leaf' : (5, 18),\n",
        "    'min_samples_split' : (5,16)}\n",
        "\n",
        "rf = RandomForestRegressor(random_state=0, n_jobs=-1)\n",
        "grid_cv = GridSearchCV(rf, param_grid=params, cv=2, n_jobs=-1)\n",
        "\n",
        "# 학습\n",
        "grid_cv.fit(X_train, y_train)\n",
        "\n",
        "# 최적의 하이퍼파라미터 및 정확도\n",
        "print('최적 하이퍼파라미터 :', grid_cv.best_params_)\n",
        "print('최적 예측 정확도 : {0:.4f}'.format(grid_cv.best_score_))\n",
        "\n"
      ]
    },
    {
      "cell_type": "code",
      "execution_count": 19,
      "id": "f0c251d7",
      "metadata": {},
      "outputs": [],
      "source": [
        "# 모델학습\n",
        "rf_run = RandomForestRegressor(random_state=0, max_depth=10, min_samples_leaf=5, min_samples_split=5, n_estimators=40)\n",
        "rf_run.fit(X_train, y_train)\n",
        "\n",
        "# 평가\n",
        "val_predictions = rf_run.predict(X_test)\n",
        "\n",
        "# 테스트\n",
        "test_predictions = rf_run.predict(test_inputs)"
      ]
    },
    {
      "cell_type": "markdown",
      "id": "148a0d92-4cbf-4785-8fe3-eea3e20e1733",
      "metadata": {
        "id": "148a0d92-4cbf-4785-8fe3-eea3e20e1733"
      },
      "source": [
        "## 4. 오차 평가(RMSE)"
      ]
    },
    {
      "cell_type": "code",
      "execution_count": 20,
      "id": "6a39cf44-0afd-4510-a325-429ea79e3ac9",
      "metadata": {
        "colab": {
          "base_uri": "https://localhost:8080/"
        },
        "id": "6a39cf44-0afd-4510-a325-429ea79e3ac9",
        "outputId": "34d20d60-efef-4e7c-a930-0a13b365ad27"
      },
      "outputs": [
        {
          "name": "stdout",
          "output_type": "stream",
          "text": [
            "Root Mean Squared Error = 10.8 Mbit/s\n"
          ]
        }
      ],
      "source": [
        "rmse = mean_squared_error(y_test, val_predictions, squared=False)\n",
        "print(f\"Root Mean Squared Error = {rmse / 1e6:.3} Mbit/s\")"
      ]
    },
    {
      "cell_type": "markdown",
      "id": "ce841334-87a2-4322-bb96-01962e889d01",
      "metadata": {
        "id": "ce841334-87a2-4322-bb96-01962e889d01"
      },
      "source": [
        "## 5. 결과 저장"
      ]
    },
    {
      "cell_type": "code",
      "execution_count": 21,
      "id": "ff142144-a6cd-4fec-9c78-19deaef02795",
      "metadata": {
        "colab": {
          "base_uri": "https://localhost:8080/",
          "height": 206
        },
        "id": "ff142144-a6cd-4fec-9c78-19deaef02795",
        "outputId": "bff95ac2-7106-4c90-f7df-c97f7687a502"
      },
      "outputs": [
        {
          "data": {
            "text/html": [
              "<div>\n",
              "<style scoped>\n",
              "    .dataframe tbody tr th:only-of-type {\n",
              "        vertical-align: middle;\n",
              "    }\n",
              "\n",
              "    .dataframe tbody tr th {\n",
              "        vertical-align: top;\n",
              "    }\n",
              "\n",
              "    .dataframe thead th {\n",
              "        text-align: right;\n",
              "    }\n",
              "</style>\n",
              "<table border=\"1\" class=\"dataframe\">\n",
              "  <thead>\n",
              "    <tr style=\"text-align: right;\">\n",
              "      <th></th>\n",
              "      <th>id</th>\n",
              "      <th>target</th>\n",
              "    </tr>\n",
              "  </thead>\n",
              "  <tbody>\n",
              "    <tr>\n",
              "      <th>0</th>\n",
              "      <td>Id_ln0e0hfrgx</td>\n",
              "      <td>2.372814e+07</td>\n",
              "    </tr>\n",
              "    <tr>\n",
              "      <th>1</th>\n",
              "      <td>Id_svf7nz9fxv</td>\n",
              "      <td>6.871390e+07</td>\n",
              "    </tr>\n",
              "    <tr>\n",
              "      <th>2</th>\n",
              "      <td>Id_ww2mh07gwj</td>\n",
              "      <td>8.126049e+07</td>\n",
              "    </tr>\n",
              "    <tr>\n",
              "      <th>3</th>\n",
              "      <td>Id_v88r4y03ww</td>\n",
              "      <td>2.144102e+07</td>\n",
              "    </tr>\n",
              "    <tr>\n",
              "      <th>4</th>\n",
              "      <td>Id_2u4y4kzglh</td>\n",
              "      <td>3.686830e+06</td>\n",
              "    </tr>\n",
              "  </tbody>\n",
              "</table>\n",
              "</div>"
            ],
            "text/plain": [
              "              id        target\n",
              "0  Id_ln0e0hfrgx  2.372814e+07\n",
              "1  Id_svf7nz9fxv  6.871390e+07\n",
              "2  Id_ww2mh07gwj  8.126049e+07\n",
              "3  Id_v88r4y03ww  2.144102e+07\n",
              "4  Id_2u4y4kzglh  3.686830e+06"
            ]
          },
          "execution_count": 21,
          "metadata": {},
          "output_type": "execute_result"
        }
      ],
      "source": [
        "# Add index to results\n",
        "predictions_df = pd.DataFrame({'id': test_df.id, 'target': test_predictions})\n",
        "predictions_df.to_csv(\"BenchmarkSubmission.csv\", index = False)\n",
        "predictions_df.head()"
      ]
    },
    {
      "cell_type": "markdown",
      "id": "625cb613",
      "metadata": {},
      "source": [
        "## 3. 예측 알고리즘(GradientBoostingRegressor)"
      ]
    },
    {
      "cell_type": "code",
      "execution_count": 24,
      "id": "92396198",
      "metadata": {},
      "outputs": [],
      "source": [
        "# training data 와 test data 분리\n",
        "X_train, X_test, y_train, y_test = train_test_split(train_inputs, train_targets, test_size = 0.2, random_state = 0)\n",
        "\n",
        "# ML알고리즘 생성\n",
        "\n",
        "GB = GradientBoostingRegressor(n_estimators=3)\n",
        "\n",
        "# 학습\n",
        "GB.fit(X_train, y_train)\n",
        "\n",
        "# 평가\n",
        "val_predictions = GB.predict(X_test)\n",
        "\n",
        "# 테스트\n",
        "test_predictions = GB.predict(test_inputs)"
      ]
    },
    {
      "cell_type": "markdown",
      "id": "1dd2de4c",
      "metadata": {},
      "source": [
        "## 4. 오차 평가(RMSE)"
      ]
    },
    {
      "cell_type": "code",
      "execution_count": 25,
      "id": "a8b5e781",
      "metadata": {},
      "outputs": [
        {
          "name": "stdout",
          "output_type": "stream",
          "text": [
            "Root Mean Squared Error = 34.9 Mbit/s\n"
          ]
        }
      ],
      "source": [
        "rmse = mean_squared_error(y_test, val_predictions, squared=False)\n",
        "print(f\"Root Mean Squared Error = {rmse / 1e6:.3} Mbit/s\")"
      ]
    },
    {
      "cell_type": "markdown",
      "id": "f41143bb",
      "metadata": {},
      "source": [
        "## 5. 결과 저장"
      ]
    },
    {
      "cell_type": "code",
      "execution_count": 26,
      "id": "3c5de166",
      "metadata": {},
      "outputs": [
        {
          "data": {
            "text/html": [
              "<div>\n",
              "<style scoped>\n",
              "    .dataframe tbody tr th:only-of-type {\n",
              "        vertical-align: middle;\n",
              "    }\n",
              "\n",
              "    .dataframe tbody tr th {\n",
              "        vertical-align: top;\n",
              "    }\n",
              "\n",
              "    .dataframe thead th {\n",
              "        text-align: right;\n",
              "    }\n",
              "</style>\n",
              "<table border=\"1\" class=\"dataframe\">\n",
              "  <thead>\n",
              "    <tr style=\"text-align: right;\">\n",
              "      <th></th>\n",
              "      <th>id</th>\n",
              "      <th>target</th>\n",
              "    </tr>\n",
              "  </thead>\n",
              "  <tbody>\n",
              "    <tr>\n",
              "      <th>0</th>\n",
              "      <td>Id_ln0e0hfrgx</td>\n",
              "      <td>4.991969e+07</td>\n",
              "    </tr>\n",
              "    <tr>\n",
              "      <th>1</th>\n",
              "      <td>Id_svf7nz9fxv</td>\n",
              "      <td>6.186575e+07</td>\n",
              "    </tr>\n",
              "    <tr>\n",
              "      <th>2</th>\n",
              "      <td>Id_ww2mh07gwj</td>\n",
              "      <td>6.186575e+07</td>\n",
              "    </tr>\n",
              "    <tr>\n",
              "      <th>3</th>\n",
              "      <td>Id_v88r4y03ww</td>\n",
              "      <td>4.635343e+07</td>\n",
              "    </tr>\n",
              "    <tr>\n",
              "      <th>4</th>\n",
              "      <td>Id_2u4y4kzglh</td>\n",
              "      <td>4.635343e+07</td>\n",
              "    </tr>\n",
              "  </tbody>\n",
              "</table>\n",
              "</div>"
            ],
            "text/plain": [
              "              id        target\n",
              "0  Id_ln0e0hfrgx  4.991969e+07\n",
              "1  Id_svf7nz9fxv  6.186575e+07\n",
              "2  Id_ww2mh07gwj  6.186575e+07\n",
              "3  Id_v88r4y03ww  4.635343e+07\n",
              "4  Id_2u4y4kzglh  4.635343e+07"
            ]
          },
          "execution_count": 26,
          "metadata": {},
          "output_type": "execute_result"
        }
      ],
      "source": [
        "# Add index to results\n",
        "predictions_df = pd.DataFrame({'id': test_df.id, 'target': test_predictions})\n",
        "predictions_df.to_csv(\"BenchmarkSubmission.csv\", index = False)\n",
        "predictions_df.head()"
      ]
    }
  ],
  "metadata": {
    "colab": {
      "provenance": []
    },
    "kernelspec": {
      "display_name": "Python 3 (ipykernel)",
      "language": "python",
      "name": "python3"
    },
    "language_info": {
      "codemirror_mode": {
        "name": "ipython",
        "version": 3
      },
      "file_extension": ".py",
      "mimetype": "text/x-python",
      "name": "python",
      "nbconvert_exporter": "python",
      "pygments_lexer": "ipython3",
      "version": "3.8.19"
    }
  },
  "nbformat": 4,
  "nbformat_minor": 5
}
